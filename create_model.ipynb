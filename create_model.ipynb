{
 "cells": [
  {
   "cell_type": "code",
   "execution_count": 1,
   "metadata": {},
   "outputs": [],
   "source": [
    "import pandas as pd\n",
    "import numpy as np\n",
    "from sklearn.model_selection import train_test_split\n",
    "from sklearn.linear_model import Ridge, LinearRegression, Lasso\n",
    "from sklearn.preprocessing import StandardScaler \n",
    "from datetime import datetime, timedelta\n",
    "from sklearn.model_selection import GridSearchCV\n",
    "import sklearn.metrics\n",
    "import warnings\n",
    "\n",
    "warnings.filterwarnings('ignore')"
   ]
  },
  {
   "cell_type": "code",
   "execution_count": 2,
   "metadata": {},
   "outputs": [],
   "source": [
    "df = pd.read_csv('matchup_stats.csv')\n",
    "prev_matchups = df[df['pts_d'] != 0]\n",
    "\n",
    "column_names = df.columns.values[2:24]\n",
    "\n",
    "y = prev_matchups['pts_d'].to_numpy()\n",
    "X = prev_matchups.to_numpy()[:,2:24]\n"
   ]
  },
  {
   "cell_type": "code",
   "execution_count": 3,
   "metadata": {},
   "outputs": [],
   "source": [
    "scaler = StandardScaler() \n",
    "scaled_X = scaler.fit_transform(X) \n",
    "  \n",
    "X_train, X_test, y_train, y_test = train_test_split(scaled_X, \n",
    "                                                    y, \n",
    "                                                    test_size = 0.2) \n"
   ]
  },
  {
   "cell_type": "code",
   "execution_count": 4,
   "metadata": {},
   "outputs": [
    {
     "name": "stdout",
     "output_type": "stream",
     "text": [
      "fg_per_g :  0.07716762498923574\n",
      "fga_per_g :  -2.218903669797598\n",
      "fg_pct :  1.4411613379407928\n",
      "fg3_per_g :  0.6327348209728226\n",
      "fg3a_per_g :  -0.563228450045541\n",
      "fg3_pct :  1.2120045702635873\n",
      "fg2_per_g :  -0.3611607246033381\n",
      "fg2a_per_g :  -0.6974892473023745\n",
      "fg2_pct :  1.3891592166283941\n",
      "ft_per_g :  -0.1435844472235165\n",
      "fta_per_g :  0.49029445235114816\n",
      "ft_pct :  0.6538286969049744\n",
      "orb_per_g :  1.948533944253644\n",
      "drb_per_g :  1.2579186725498928\n",
      "trb_per_g :  1.7673197889837684\n",
      "ast_per_g :  1.25214624146937\n",
      "stl_per_g :  3.2061774984093643\n",
      "blk_per_g :  0.3013487261544057\n",
      "tov_per_g :  -2.7580428177612726\n",
      "pf_per_g :  0.4927806315544317\n",
      "pts_per_g :  0.03259470988325738\n",
      "year :  0.4071431033167805\n"
     ]
    }
   ],
   "source": [
    "RidgeRegression = Ridge()\n",
    "hyperParameters = {'alpha':[1e-15,1e-10,1e-8,1e-3,1e-2,1,5,10,20,30,35,40,45,50,55,100]}\n",
    "ridgeRegressor = GridSearchCV(RidgeRegression, hyperParameters, scoring='r2', cv=5)\n",
    "ridgeRegressor.fit(X_train,y_train)\n",
    "\n",
    "# print(\"Best value for lambda : \",ridgeRegressor.best_params_)\n",
    "# print(\"Best score for cost function: \", ridgeRegressor.best_score_)\n",
    "\n",
    "rdg=ridgeRegressor.best_estimator_\n",
    "rdg_score=rdg.score(X_test, y_test)\n",
    "# print(\"Model score: \", rdg_score, \"\\n\")\n",
    "\n",
    "for i in range(0, 22):\n",
    "    print(column_names[i], \": \", rdg.coef_[i])"
   ]
  },
  {
   "cell_type": "code",
   "execution_count": null,
   "metadata": {},
   "outputs": [],
   "source": []
  },
  {
   "cell_type": "code",
   "execution_count": 5,
   "metadata": {},
   "outputs": [
    {
     "name": "stdout",
     "output_type": "stream",
     "text": [
      "fg_per_g :  3.3500731874828915\n",
      "fga_per_g :  -3.0775217255068403\n",
      "fg_pct :  2.545483657808303\n",
      "fg3_per_g :  2.8103433951920223\n",
      "fg3a_per_g :  -0.0\n",
      "fg3_pct :  0.5347132580204297\n",
      "fg2_per_g :  -0.0\n",
      "fg2a_per_g :  -0.0\n",
      "fg2_pct :  0.2050837786305268\n",
      "ft_per_g :  0.861408372283345\n",
      "fta_per_g :  0.9635416762537898\n",
      "ft_pct :  0.8408345956392231\n",
      "orb_per_g :  3.2888500732844426\n",
      "drb_per_g :  3.0065012943421485\n",
      "trb_per_g :  0.0\n",
      "ast_per_g :  1.2957409563645035\n",
      "stl_per_g :  3.3043960508156225\n",
      "blk_per_g :  0.3233072042222047\n",
      "tov_per_g :  -3.016716966639669\n",
      "pf_per_g :  0.7226272609909359\n",
      "pts_per_g :  -3.9888132167003874\n",
      "year :  0.4113348117428575\n"
     ]
    }
   ],
   "source": [
    "LassoRegression = Lasso(tol=1e-2, max_iter=10000)\n",
    "hyperParameters = {'alpha':[1e-15,1e-10,1e-8,1e-3,1e-2,1,5,10,20,30,35,40,45,50,55,100]\n",
    "                   }\n",
    "LassoRegressor = GridSearchCV(LassoRegression, hyperParameters, scoring='r2', cv=5)\n",
    "LassoRegressor.fit(X_train, y_train)\n",
    "\n",
    "# print(\"Best value for lambda : \",LassoRegressor.best_params_)\n",
    "# print(\"Best score for cost function: \", LassoRegressor.best_score_)\n",
    "\n",
    "lso=LassoRegressor.best_estimator_\n",
    "lso_score=lso.score(X_test, y_test)\n",
    "# print(\"Model score: \", lso_score, \"\\n\")\n",
    "\n",
    "for i in range(0, 22):\n",
    "    print(column_names[i], \": \", lso.coef_[i])"
   ]
  },
  {
   "cell_type": "code",
   "execution_count": 6,
   "metadata": {},
   "outputs": [
    {
     "name": "stdout",
     "output_type": "stream",
     "text": [
      "fg_per_g :  -4.632460468325213\n",
      "fga_per_g :  16.08859828553104\n",
      "fg_pct :  3.4614703302470486\n",
      "fg3_per_g :  20.978382207381998\n",
      "fg3a_per_g :  -33.53976760798667\n",
      "fg3_pct :  1.170587393351606\n",
      "fg2_per_g :  9.637624700633872\n",
      "fg2a_per_g :  -28.67899187060708\n",
      "fg2_pct :  8.09757805144973\n",
      "ft_per_g :  -6.034142229368679\n",
      "fta_per_g :  13.153266362036213\n",
      "ft_pct :  5.354034605578998\n",
      "orb_per_g :  17.300243356865877\n",
      "drb_per_g :  20.77704183870123\n",
      "trb_per_g :  -21.430665459862233\n",
      "ast_per_g :  0.7924309488730793\n",
      "stl_per_g :  3.402198879855665\n",
      "blk_per_g :  0.14498701665218416\n",
      "tov_per_g :  -2.69457371185605\n",
      "pf_per_g :  0.6655811695475902\n",
      "pts_per_g :  -17.847628098623588\n",
      "year :  0.42161497775341666\n"
     ]
    }
   ],
   "source": [
    "lin = LinearRegression() \n",
    "lin.fit(X_train, y_train) \n",
    "y_pred = lin.predict(X_test)\n",
    "lin_score = lin.score(X_test, y_test) \n",
    "# print(\"Model score : \", lin_score, \"\\n\")\n",
    "\n",
    "for i in range(0, 22):\n",
    "    print(column_names[i], \": \", lin.coef_[i])"
   ]
  },
  {
   "cell_type": "code",
   "execution_count": 7,
   "metadata": {},
   "outputs": [],
   "source": [
    "def isWin(team_a, team_b, pts_d):\n",
    "    if pts_d > 0:\n",
    "        outp = team_a + \" beats \" + team_b + \" by \" + str(round(pts_d, 1)) + \"points\" \n",
    "    else:\n",
    "        outp = team_b + \" beats \" + team_a + \" by \" + str(round(abs(pts_d), 1)) + \"points\"\n",
    "    return(outp)"
   ]
  },
  {
   "cell_type": "code",
   "execution_count": 19,
   "metadata": {},
   "outputs": [
    {
     "ename": "IndentationError",
     "evalue": "unexpected indent (951319774.py, line 13)",
     "output_type": "error",
     "traceback": [
      "\u001b[0;36m  Cell \u001b[0;32mIn[19], line 13\u001b[0;36m\u001b[0m\n\u001b[0;31m    print(s, '\\n', today, \"\\n\", s)\u001b[0m\n\u001b[0m    ^\u001b[0m\n\u001b[0;31mIndentationError\u001b[0m\u001b[0;31m:\u001b[0m unexpected indent\n"
     ]
    }
   ],
   "source": [
    "models = [lin, rdg, lso]\n",
    "s = '-'*50\n",
    "\n",
    "today_dt=datetime.today()\n",
    "today = today_dt.strftime(\"%a, %b %d, %Y\")\n",
    "\n",
    "\n",
    "for _ in range(0, 7):\n",
    "    today_dt += timedelta(days=1)\n",
    "    today = today_dt.strftime(\"%a, %b %d, %Y\")\n",
    "    home_teams=df[df['date']==today]['team_a'].to_list()\n",
    "    visitor_teams=df[df['date']==today]['team_b'].to_list()\n",
    "    \n",
    "    print(s, '\\n', today, \"\\n\", s)\n",
    "\n",
    "    try:\n",
    "        X_today=df[df['date']==today].drop(['pts_d', 'mp_per_g', 'date', 'team_a', 'team_b'], axis=1).to_numpy()[:,1:]\n",
    "        X_today_scaled = scaler.transform(X_today)\n",
    "        for model in models:\n",
    "            print(\"Model Name: \", model, \"\\nModel Score: \", round(model.score(X_test, y_test), 3))\n",
    "            for j in range(0, len(home_teams)):\n",
    "                print(\"    \", isWin(home_teams[j], visitor_teams[j], model.predict(X_today_scaled)[j]))\n",
    "            print(\"\\n\")\n",
    "            \n",
    "    except:\n",
    "        print(\"No games on \", today)"
   ]
  },
  {
   "cell_type": "code",
   "execution_count": null,
   "metadata": {},
   "outputs": [],
   "source": [
    "\n"
   ]
  },
  {
   "cell_type": "code",
   "execution_count": null,
   "metadata": {},
   "outputs": [],
   "source": []
  }
 ],
 "metadata": {
  "kernelspec": {
   "display_name": "eods-f23",
   "language": "python",
   "name": "eods-f23"
  },
  "language_info": {
   "codemirror_mode": {
    "name": "ipython",
    "version": 3
   },
   "file_extension": ".py",
   "mimetype": "text/x-python",
   "name": "python",
   "nbconvert_exporter": "python",
   "pygments_lexer": "ipython3",
   "version": "3.10.12"
  }
 },
 "nbformat": 4,
 "nbformat_minor": 2
}
