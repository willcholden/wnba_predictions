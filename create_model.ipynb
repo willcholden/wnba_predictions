{
 "cells": [
  {
   "cell_type": "code",
   "execution_count": 12,
   "metadata": {},
   "outputs": [],
   "source": [
    "import pandas as pd\n",
    "import numpy as np\n",
    "from sklearn.model_selection import train_test_split\n",
    "from sklearn.linear_model import Ridge, LinearRegression, Lasso\n",
    "from sklearn.preprocessing import StandardScaler \n",
    "from datetime import datetime, timedelta\n",
    "from sklearn.model_selection import GridSearchCV\n",
    "import sklearn.metrics\n",
    "import warnings\n",
    "\n",
    "warnings.filterwarnings('ignore')"
   ]
  },
  {
   "cell_type": "code",
   "execution_count": 2,
   "metadata": {},
   "outputs": [],
   "source": [
    "df = pd.read_csv('matchup_stats.csv')\n",
    "prev_matchups = df[df['pts_d'] != 0]\n",
    "\n",
    "column_names = df.columns.values[2:24]\n",
    "\n",
    "y = prev_matchups['pts_d'].to_numpy()\n",
    "X = prev_matchups.to_numpy()[:,2:24]\n"
   ]
  },
  {
   "cell_type": "code",
   "execution_count": 3,
   "metadata": {},
   "outputs": [],
   "source": [
    "scaler = StandardScaler() \n",
    "scaled_X = scaler.fit_transform(X) \n",
    "  \n",
    "X_train, X_test, y_train, y_test = train_test_split(scaled_X, \n",
    "                                                    y, \n",
    "                                                    test_size = 0.2) \n"
   ]
  },
  {
   "cell_type": "code",
   "execution_count": 4,
   "metadata": {},
   "outputs": [],
   "source": [
    "RidgeRegression = Ridge()\n",
    "hyperParameters = {'alpha':[1e-15,1e-10,1e-8,1e-3,1e-2,1,5,10,20,30,35,40,45,50,55,100]}\n",
    "ridgeRegressor = GridSearchCV(RidgeRegression, hyperParameters, scoring='r2', cv=5)\n",
    "ridgeRegressor.fit(X_train,y_train)\n",
    "\n",
    "# print(\"Best value for lambda : \",ridgeRegressor.best_params_)\n",
    "# print(\"Best score for cost function: \", ridgeRegressor.best_score_)\n",
    "\n",
    "rdg=ridgeRegressor.best_estimator_\n",
    "rdg_score=rdg.score(X_test, y_test)\n",
    "# print(\"Model score: \", rdg_score, \"\\n\")\n",
    "\n",
    "# for i in range(0, 22):\n",
    "#     print(column_names[i], \": \", rdg.coef_[i])"
   ]
  },
  {
   "cell_type": "code",
   "execution_count": null,
   "metadata": {},
   "outputs": [],
   "source": []
  },
  {
   "cell_type": "code",
   "execution_count": 5,
   "metadata": {},
   "outputs": [],
   "source": [
    "LassoRegression = Lasso(tol=1e-2, max_iter=10000)\n",
    "hyperParameters = {'alpha':[1e-15,1e-10,1e-8,1e-3,1e-2,1,5,10,20,30,35,40,45,50,55,100]\n",
    "                   }\n",
    "LassoRegressor = GridSearchCV(LassoRegression, hyperParameters, scoring='r2', cv=5)\n",
    "LassoRegressor.fit(X_train, y_train)\n",
    "\n",
    "# print(\"Best value for lambda : \",LassoRegressor.best_params_)\n",
    "# print(\"Best score for cost function: \", LassoRegressor.best_score_)\n",
    "\n",
    "lso=LassoRegressor.best_estimator_\n",
    "lso_score=lso.score(X_test, y_test)\n",
    "# print(\"Model score: \", lso_score, \"\\n\")\n",
    "\n",
    "# for i in range(0, 22):\n",
    "#     print(column_names[i], \": \", lso.coef_[i])"
   ]
  },
  {
   "cell_type": "code",
   "execution_count": 6,
   "metadata": {},
   "outputs": [],
   "source": [
    "lin = LinearRegression() \n",
    "lin.fit(X_train, y_train) \n",
    "y_pred = lin.predict(X_test)\n",
    "lin_score = lin.score(X_test, y_test) \n",
    "# print(\"Model score : \", lin_score, \"\\n\")\n",
    "\n",
    "# for i in range(0, 22):\n",
    "#     print(column_names[i], \": \", lin.coef_[i])"
   ]
  },
  {
   "cell_type": "code",
   "execution_count": 7,
   "metadata": {},
   "outputs": [],
   "source": [
    "def isWin(team_a, team_b, pts_d):\n",
    "    if pts_d > 0:\n",
    "        outp = team_a + \" beats \" + team_b + \" by \" + str(round(pts_d, 1)) + \"points\" \n",
    "    else:\n",
    "        outp = team_b + \" beats \" + team_a + \" by \" + str(round(abs(pts_d), 1)) + \"points\"\n",
    "    return(outp)"
   ]
  },
  {
   "cell_type": "code",
   "execution_count": 19,
   "metadata": {},
   "outputs": [
    {
     "ename": "IndentationError",
     "evalue": "unexpected indent (951319774.py, line 13)",
     "output_type": "error",
     "traceback": [
      "\u001b[0;36m  Cell \u001b[0;32mIn[19], line 13\u001b[0;36m\u001b[0m\n\u001b[0;31m    print(s, '\\n', today, \"\\n\", s)\u001b[0m\n\u001b[0m    ^\u001b[0m\n\u001b[0;31mIndentationError\u001b[0m\u001b[0;31m:\u001b[0m unexpected indent\n"
     ]
    }
   ],
   "source": [
    "models = [lin, rdg, lso]\n",
    "s = '-'*50\n",
    "\n",
    "today_dt=datetime.today()\n",
    "today = today_dt.strftime(\"%a, %b %d, %Y\")\n",
    "\n",
    "\n",
    "for _ in range(0, 7):\n",
    "    today_dt += timedelta(days=1)\n",
    "    today = today_dt.strftime(\"%a, %b %d, %Y\")\n",
    "    home_teams=df[df['date']==today]['team_a'].to_list()\n",
    "    visitor_teams=df[df['date']==today]['team_b'].to_list()\n",
    "    \n",
    "    print(s, '\\n', today, \"\\n\", s)\n",
    "\n",
    "    try:\n",
    "        X_today=df[df['date']==today].drop(['pts_d', 'mp_per_g', 'date', 'team_a', 'team_b'], axis=1).to_numpy()[:,1:]\n",
    "        X_today_scaled = scaler.transform(X_today)\n",
    "        for model in models:\n",
    "            print(\"Model Name: \", model, \"\\nModel Score: \", round(model.score(X_test, y_test), 3))\n",
    "            for j in range(0, len(home_teams)):\n",
    "                print(\"    \", isWin(home_teams[j], visitor_teams[j], model.predict(X_today_scaled)[j]))\n",
    "            print(\"\\n\")\n",
    "            \n",
    "    except:\n",
    "        print(\"No games on \", today)"
   ]
  },
  {
   "cell_type": "code",
   "execution_count": null,
   "metadata": {},
   "outputs": [],
   "source": [
    "\n"
   ]
  },
  {
   "cell_type": "code",
   "execution_count": null,
   "metadata": {},
   "outputs": [],
   "source": []
  }
 ],
 "metadata": {
  "kernelspec": {
   "display_name": "eods-f23",
   "language": "python",
   "name": "eods-f23"
  },
  "language_info": {
   "codemirror_mode": {
    "name": "ipython",
    "version": 3
   },
   "file_extension": ".py",
   "mimetype": "text/x-python",
   "name": "python",
   "nbconvert_exporter": "python",
   "pygments_lexer": "ipython3",
   "version": "3.10.12"
  }
 },
 "nbformat": 4,
 "nbformat_minor": 2
}
